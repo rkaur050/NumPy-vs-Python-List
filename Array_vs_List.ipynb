{
  "nbformat": 4,
  "nbformat_minor": 0,
  "metadata": {
    "colab": {
      "provenance": [],
      "authorship_tag": "ABX9TyPJKXhVHv8GpLbgYWM8GLIq",
      "include_colab_link": true
    },
    "kernelspec": {
      "name": "python3",
      "display_name": "Python 3"
    },
    "language_info": {
      "name": "python"
    }
  },
  "cells": [
    {
      "cell_type": "markdown",
      "metadata": {
        "id": "view-in-github",
        "colab_type": "text"
      },
      "source": [
        "<a href=\"https://colab.research.google.com/github/rkaur050/Numpy-vs-Python-List/blob/main/Array_vs_List.ipynb\" target=\"_parent\"><img src=\"https://colab.research.google.com/assets/colab-badge.svg\" alt=\"Open In Colab\"/></a>"
      ]
    },
    {
      "cell_type": "markdown",
      "source": [
        "##1. Array v/s List Comparision"
      ],
      "metadata": {
        "id": "Zr5Hr1xv-Iau"
      }
    },
    {
      "cell_type": "code",
      "execution_count": 8,
      "metadata": {
        "colab": {
          "base_uri": "https://localhost:8080/"
        },
        "id": "pMKwJWHA8NKg",
        "outputId": "ec387b86-8373-4ee7-dc1c-004f6f85a61d"
      },
      "outputs": [
        {
          "output_type": "stream",
          "name": "stdout",
          "text": [
            "[1, 2, 3]\n",
            "<class 'list'>\n",
            "[1 3 2]\n",
            "<class 'numpy.ndarray'>\n",
            "[ True False False]\n",
            "False\n",
            "<class 'list'>\n",
            "True\n"
          ]
        }
      ],
      "source": [
        "import numpy as np\n",
        "arr=np.array([1,3,2])\n",
        "lst=[1,3,2]\n",
        "print(lst,type(lst),arr,type(arr),sep='\\n')\n",
        "print(lst==arr)\n",
        "print(arr.tolist()==lst)\n",
        "print(type(arr.tolist()))\n",
        "print(sorted(arr.tolist())==sorted(lst))"
      ]
    },
    {
      "cell_type": "markdown",
      "source": [
        "##2. Adding elements"
      ],
      "metadata": {
        "id": "KvoVl64p-OJ7"
      }
    },
    {
      "cell_type": "code",
      "source": [
        "lst=[1,3,2]\n",
        "arr=np.array([1,2,3])\n",
        "print(lst)\n",
        "lst.append(4)\n",
        "print(lst)\n",
        "print('-'*5)\n",
        "print(arr)\n",
        "np.append(arr,4)\n",
        "print(arr)\n",
        "arr=np.append(arr,4)\n",
        "print(arr)"
      ],
      "metadata": {
        "colab": {
          "base_uri": "https://localhost:8080/"
        },
        "id": "XAcLxVSl9s1G",
        "outputId": "92ec0e8f-f804-4c61-9852-dec679f35fe7"
      },
      "execution_count": 22,
      "outputs": [
        {
          "output_type": "stream",
          "name": "stdout",
          "text": [
            "[1, 3, 2]\n",
            "[1, 3, 2, 4]\n",
            "-----\n",
            "[1 2 3]\n",
            "[1 2 3]\n",
            "[1 2 3 4]\n"
          ]
        }
      ]
    },
    {
      "cell_type": "code",
      "source": [],
      "metadata": {
        "id": "EPWr2a8G91yu"
      },
      "execution_count": null,
      "outputs": []
    },
    {
      "cell_type": "markdown",
      "source": [
        "##3. Removing elements"
      ],
      "metadata": {
        "id": "0qYP9uRn-f9L"
      }
    },
    {
      "cell_type": "code",
      "source": [
        "lst=[1,3,2]\n",
        "arr=np.array([1,2,3])\n",
        "print(lst)\n",
        "del lst[-2]\n",
        "print(lst)\n",
        "print('-'*5)\n",
        "print(arr)\n",
        "arr=np.delete(arr,-2)\n",
        "print(arr)"
      ],
      "metadata": {
        "colab": {
          "base_uri": "https://localhost:8080/"
        },
        "id": "TBdSosO1-m_2",
        "outputId": "590b14fa-f83d-41d9-fb8f-95bbc65e8850"
      },
      "execution_count": 28,
      "outputs": [
        {
          "output_type": "stream",
          "name": "stdout",
          "text": [
            "[1, 3, 2]\n",
            "[1, 2]\n",
            "-----\n",
            "[1 2 3]\n",
            "[1 3]\n"
          ]
        }
      ]
    },
    {
      "cell_type": "code",
      "source": [],
      "metadata": {
        "id": "bhTzFP8J_D7V"
      },
      "execution_count": null,
      "outputs": []
    },
    {
      "cell_type": "markdown",
      "source": [
        "##4. Updating elements"
      ],
      "metadata": {
        "id": "nD39BBqE_V8l"
      }
    },
    {
      "cell_type": "code",
      "source": [
        "lst=[1,3,2]\n",
        "print(lst)\n",
        "lst[1]=5\n",
        "lst[-1]=4\n",
        "print(lst)\n",
        "print('-'*5)\n",
        "arr=np.array([1,2,3])\n",
        "print(arr)\n",
        "arr[-3]=4\n",
        "arr[1]=5\n",
        "print(arr)"
      ],
      "metadata": {
        "colab": {
          "base_uri": "https://localhost:8080/"
        },
        "id": "g0YxWOeo_YCD",
        "outputId": "b79ab835-0d7f-4655-f0f9-ad798d8a4dd6"
      },
      "execution_count": 33,
      "outputs": [
        {
          "output_type": "stream",
          "name": "stdout",
          "text": [
            "[1, 3, 2]\n",
            "[1, 5, 4]\n",
            "-----\n",
            "[1 2 3]\n",
            "[4 5 3]\n"
          ]
        }
      ]
    },
    {
      "cell_type": "markdown",
      "source": [
        "##5. Searching Comparision"
      ],
      "metadata": {
        "id": "yMwV0jUE_236"
      }
    },
    {
      "cell_type": "code",
      "source": [
        "import time\n",
        "\n",
        "my_lst=list(range(10000000))\n",
        "my_arr=np.arange(10000000)\n",
        "\n",
        "start_time=time.time()\n",
        "for i in range(100):\n",
        "  if 50000000 in my_lst:\n",
        "    pass\n",
        "\n",
        "end_time=time.time()\n",
        "print('List:',end_time-start_time)\n",
        "print('-'*5)\n",
        "start_time=time.time()\n",
        "for i in range(100):\n",
        "  if 50000000 in my_arr:\n",
        "    pass\n",
        "end_time=time.time()\n",
        "print('Array:',end_time-start_time)"
      ],
      "metadata": {
        "colab": {
          "base_uri": "https://localhost:8080/"
        },
        "id": "mwzKI8hNAB1U",
        "outputId": "472f8e82-6e9e-4d2d-9a76-d396b76d5a8d"
      },
      "execution_count": 44,
      "outputs": [
        {
          "output_type": "stream",
          "name": "stdout",
          "text": [
            "List: 11.75109601020813\n",
            "-----\n",
            "Array: 1.0857665538787842\n"
          ]
        }
      ]
    }
  ]
}